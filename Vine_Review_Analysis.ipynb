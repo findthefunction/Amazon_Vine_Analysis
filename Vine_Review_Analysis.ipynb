{
 "metadata": {
  "language_info": {
   "codemirror_mode": {
    "name": "ipython",
    "version": 3
   },
   "file_extension": ".py",
   "mimetype": "text/x-python",
   "name": "python",
   "nbconvert_exporter": "python",
   "pygments_lexer": "ipython3",
   "version": "3.9.4"
  },
  "orig_nbformat": 4,
  "kernelspec": {
   "name": "python3",
   "display_name": "Python 3.9.4 64-bit ('mlenv': conda)"
  },
  "interpreter": {
   "hash": "5b498ed6bbff247839b21efdb7f9f4c1fd5c99b664153fbf032f55fae0b65230"
  }
 },
 "nbformat": 4,
 "nbformat_minor": 2,
 "cells": [
  {
   "cell_type": "code",
   "execution_count": 1,
   "metadata": {},
   "outputs": [],
   "source": [
    "import pandas as pd"
   ]
  },
  {
   "cell_type": "code",
   "execution_count": 2,
   "metadata": {},
   "outputs": [
    {
     "output_type": "execute_result",
     "data": {
      "text/plain": [
       "         Unnamed: 0       review_id  star_rating  helpful_votes  total_votes  \\\n",
       "0                 0  R2MTG1GCZLR2DK          5.0            0.0          0.0   \n",
       "1                 1  R2HBOEM8LE9928          5.0            0.0          0.0   \n",
       "2                 2  R1P4RW1R9FDPEE          5.0            1.0          1.0   \n",
       "3                 3  R1EBPM82ENI67M          1.0            0.0          0.0   \n",
       "4                 4  R372S58V6D11AT          5.0            1.0          1.0   \n",
       "...             ...             ...          ...            ...          ...   \n",
       "3093864     3093864   RZ3LLAKIZQ3RR          5.0            0.0          0.0   \n",
       "3093865     3093865  R1V8GVI67B7V0K          5.0            0.0          0.0   \n",
       "3093866     3093866  R3BDESK5VUNK8C          5.0            5.0          5.0   \n",
       "3093867     3093867  R1JJGM0JWVT7DV          5.0            3.0          3.0   \n",
       "3093868     3093868  R30PZG0PCGR2V0          1.0            7.0          9.0   \n",
       "\n",
       "        vine verified_purchase  \n",
       "0          N                 Y  \n",
       "1          N                 Y  \n",
       "2          N                 Y  \n",
       "3          N                 Y  \n",
       "4          N                 Y  \n",
       "...      ...               ...  \n",
       "3093864    N                 N  \n",
       "3093865    N                 N  \n",
       "3093866    N                 N  \n",
       "3093867    N                 N  \n",
       "3093868    N                 N  \n",
       "\n",
       "[3093869 rows x 7 columns]"
      ],
      "text/html": "<div>\n<style scoped>\n    .dataframe tbody tr th:only-of-type {\n        vertical-align: middle;\n    }\n\n    .dataframe tbody tr th {\n        vertical-align: top;\n    }\n\n    .dataframe thead th {\n        text-align: right;\n    }\n</style>\n<table border=\"1\" class=\"dataframe\">\n  <thead>\n    <tr style=\"text-align: right;\">\n      <th></th>\n      <th>Unnamed: 0</th>\n      <th>review_id</th>\n      <th>star_rating</th>\n      <th>helpful_votes</th>\n      <th>total_votes</th>\n      <th>vine</th>\n      <th>verified_purchase</th>\n    </tr>\n  </thead>\n  <tbody>\n    <tr>\n      <th>0</th>\n      <td>0</td>\n      <td>R2MTG1GCZLR2DK</td>\n      <td>5.0</td>\n      <td>0.0</td>\n      <td>0.0</td>\n      <td>N</td>\n      <td>Y</td>\n    </tr>\n    <tr>\n      <th>1</th>\n      <td>1</td>\n      <td>R2HBOEM8LE9928</td>\n      <td>5.0</td>\n      <td>0.0</td>\n      <td>0.0</td>\n      <td>N</td>\n      <td>Y</td>\n    </tr>\n    <tr>\n      <th>2</th>\n      <td>2</td>\n      <td>R1P4RW1R9FDPEE</td>\n      <td>5.0</td>\n      <td>1.0</td>\n      <td>1.0</td>\n      <td>N</td>\n      <td>Y</td>\n    </tr>\n    <tr>\n      <th>3</th>\n      <td>3</td>\n      <td>R1EBPM82ENI67M</td>\n      <td>1.0</td>\n      <td>0.0</td>\n      <td>0.0</td>\n      <td>N</td>\n      <td>Y</td>\n    </tr>\n    <tr>\n      <th>4</th>\n      <td>4</td>\n      <td>R372S58V6D11AT</td>\n      <td>5.0</td>\n      <td>1.0</td>\n      <td>1.0</td>\n      <td>N</td>\n      <td>Y</td>\n    </tr>\n    <tr>\n      <th>...</th>\n      <td>...</td>\n      <td>...</td>\n      <td>...</td>\n      <td>...</td>\n      <td>...</td>\n      <td>...</td>\n      <td>...</td>\n    </tr>\n    <tr>\n      <th>3093864</th>\n      <td>3093864</td>\n      <td>RZ3LLAKIZQ3RR</td>\n      <td>5.0</td>\n      <td>0.0</td>\n      <td>0.0</td>\n      <td>N</td>\n      <td>N</td>\n    </tr>\n    <tr>\n      <th>3093865</th>\n      <td>3093865</td>\n      <td>R1V8GVI67B7V0K</td>\n      <td>5.0</td>\n      <td>0.0</td>\n      <td>0.0</td>\n      <td>N</td>\n      <td>N</td>\n    </tr>\n    <tr>\n      <th>3093866</th>\n      <td>3093866</td>\n      <td>R3BDESK5VUNK8C</td>\n      <td>5.0</td>\n      <td>5.0</td>\n      <td>5.0</td>\n      <td>N</td>\n      <td>N</td>\n    </tr>\n    <tr>\n      <th>3093867</th>\n      <td>3093867</td>\n      <td>R1JJGM0JWVT7DV</td>\n      <td>5.0</td>\n      <td>3.0</td>\n      <td>3.0</td>\n      <td>N</td>\n      <td>N</td>\n    </tr>\n    <tr>\n      <th>3093868</th>\n      <td>3093868</td>\n      <td>R30PZG0PCGR2V0</td>\n      <td>1.0</td>\n      <td>7.0</td>\n      <td>9.0</td>\n      <td>N</td>\n      <td>N</td>\n    </tr>\n  </tbody>\n</table>\n<p>3093869 rows × 7 columns</p>\n</div>"
     },
     "metadata": {},
     "execution_count": 2
    }
   ],
   "source": [
    "df = pd.read_csv('vine_table.csv')\n",
    "df"
   ]
  },
  {
   "cell_type": "code",
   "execution_count": 3,
   "metadata": {},
   "outputs": [
    {
     "output_type": "execute_result",
     "data": {
      "text/plain": [
       "      Unnamed: 0       review_id  star_rating  helpful_votes  total_votes  \\\n",
       "41            41  R1FBO737KD9F2N          5.0           19.0         23.0   \n",
       "145          145  R227GSNWI6BSZV          1.0           20.0         20.0   \n",
       "304          304  R3SJTYZBYBG4EE          4.0           99.0         99.0   \n",
       "419          419  R248FG65D76D5Y          1.0           42.0         53.0   \n",
       "500          500  R3B6BXFKGW52SG          1.0           32.0         32.0   \n",
       "555          555   ROTIV4VYL31R4          5.0           26.0         26.0   \n",
       "659          659  R3VQ59LD2LSKY7          5.0           20.0         25.0   \n",
       "1115        1115   RIIGLD8JB7PX8          1.0           32.0         35.0   \n",
       "1188        1188  R3MUBV21QV0IJK          3.0           77.0         84.0   \n",
       "1459        1459  R1V5W0X6BKIJYA          5.0          129.0        132.0   \n",
       "\n",
       "     vine verified_purchase  \n",
       "41      N                 Y  \n",
       "145     N                 Y  \n",
       "304     N                 Y  \n",
       "419     N                 Y  \n",
       "500     N                 Y  \n",
       "555     N                 Y  \n",
       "659     N                 Y  \n",
       "1115    N                 Y  \n",
       "1188    N                 Y  \n",
       "1459    N                 Y  "
      ],
      "text/html": "<div>\n<style scoped>\n    .dataframe tbody tr th:only-of-type {\n        vertical-align: middle;\n    }\n\n    .dataframe tbody tr th {\n        vertical-align: top;\n    }\n\n    .dataframe thead th {\n        text-align: right;\n    }\n</style>\n<table border=\"1\" class=\"dataframe\">\n  <thead>\n    <tr style=\"text-align: right;\">\n      <th></th>\n      <th>Unnamed: 0</th>\n      <th>review_id</th>\n      <th>star_rating</th>\n      <th>helpful_votes</th>\n      <th>total_votes</th>\n      <th>vine</th>\n      <th>verified_purchase</th>\n    </tr>\n  </thead>\n  <tbody>\n    <tr>\n      <th>41</th>\n      <td>41</td>\n      <td>R1FBO737KD9F2N</td>\n      <td>5.0</td>\n      <td>19.0</td>\n      <td>23.0</td>\n      <td>N</td>\n      <td>Y</td>\n    </tr>\n    <tr>\n      <th>145</th>\n      <td>145</td>\n      <td>R227GSNWI6BSZV</td>\n      <td>1.0</td>\n      <td>20.0</td>\n      <td>20.0</td>\n      <td>N</td>\n      <td>Y</td>\n    </tr>\n    <tr>\n      <th>304</th>\n      <td>304</td>\n      <td>R3SJTYZBYBG4EE</td>\n      <td>4.0</td>\n      <td>99.0</td>\n      <td>99.0</td>\n      <td>N</td>\n      <td>Y</td>\n    </tr>\n    <tr>\n      <th>419</th>\n      <td>419</td>\n      <td>R248FG65D76D5Y</td>\n      <td>1.0</td>\n      <td>42.0</td>\n      <td>53.0</td>\n      <td>N</td>\n      <td>Y</td>\n    </tr>\n    <tr>\n      <th>500</th>\n      <td>500</td>\n      <td>R3B6BXFKGW52SG</td>\n      <td>1.0</td>\n      <td>32.0</td>\n      <td>32.0</td>\n      <td>N</td>\n      <td>Y</td>\n    </tr>\n    <tr>\n      <th>555</th>\n      <td>555</td>\n      <td>ROTIV4VYL31R4</td>\n      <td>5.0</td>\n      <td>26.0</td>\n      <td>26.0</td>\n      <td>N</td>\n      <td>Y</td>\n    </tr>\n    <tr>\n      <th>659</th>\n      <td>659</td>\n      <td>R3VQ59LD2LSKY7</td>\n      <td>5.0</td>\n      <td>20.0</td>\n      <td>25.0</td>\n      <td>N</td>\n      <td>Y</td>\n    </tr>\n    <tr>\n      <th>1115</th>\n      <td>1115</td>\n      <td>RIIGLD8JB7PX8</td>\n      <td>1.0</td>\n      <td>32.0</td>\n      <td>35.0</td>\n      <td>N</td>\n      <td>Y</td>\n    </tr>\n    <tr>\n      <th>1188</th>\n      <td>1188</td>\n      <td>R3MUBV21QV0IJK</td>\n      <td>3.0</td>\n      <td>77.0</td>\n      <td>84.0</td>\n      <td>N</td>\n      <td>Y</td>\n    </tr>\n    <tr>\n      <th>1459</th>\n      <td>1459</td>\n      <td>R1V5W0X6BKIJYA</td>\n      <td>5.0</td>\n      <td>129.0</td>\n      <td>132.0</td>\n      <td>N</td>\n      <td>Y</td>\n    </tr>\n  </tbody>\n</table>\n</div>"
     },
     "metadata": {},
     "execution_count": 3
    }
   ],
   "source": [
    "# Filter data and retrieve all rows where total_votes count is equal or greater than 20\n",
    "total_votes = df.loc[(df['total_votes']>=20)]\n",
    "total_votes.head(10)"
   ]
  },
  {
   "cell_type": "code",
   "execution_count": 4,
   "metadata": {},
   "outputs": [
    {
     "output_type": "stream",
     "name": "stderr",
     "text": [
      "<ipython-input-4-b26cab4b466f>:1: SettingWithCopyWarning: \nA value is trying to be set on a copy of a slice from a DataFrame.\nTry using .loc[row_indexer,col_indexer] = value instead\n\nSee the caveats in the documentation: https://pandas.pydata.org/pandas-docs/stable/user_guide/indexing.html#returning-a-view-versus-a-copy\n  total_votes['results'] = total_votes['helpful_votes']/total_votes['total_votes']\n"
     ]
    },
    {
     "output_type": "execute_result",
     "data": {
      "text/plain": [
       "      Unnamed: 0       review_id  star_rating  helpful_votes  total_votes  \\\n",
       "41            41  R1FBO737KD9F2N          5.0           19.0         23.0   \n",
       "145          145  R227GSNWI6BSZV          1.0           20.0         20.0   \n",
       "304          304  R3SJTYZBYBG4EE          4.0           99.0         99.0   \n",
       "419          419  R248FG65D76D5Y          1.0           42.0         53.0   \n",
       "500          500  R3B6BXFKGW52SG          1.0           32.0         32.0   \n",
       "555          555   ROTIV4VYL31R4          5.0           26.0         26.0   \n",
       "659          659  R3VQ59LD2LSKY7          5.0           20.0         25.0   \n",
       "1115        1115   RIIGLD8JB7PX8          1.0           32.0         35.0   \n",
       "1188        1188  R3MUBV21QV0IJK          3.0           77.0         84.0   \n",
       "1459        1459  R1V5W0X6BKIJYA          5.0          129.0        132.0   \n",
       "\n",
       "     vine verified_purchase   results  \n",
       "41      N                 Y  0.826087  \n",
       "145     N                 Y  1.000000  \n",
       "304     N                 Y  1.000000  \n",
       "419     N                 Y  0.792453  \n",
       "500     N                 Y  1.000000  \n",
       "555     N                 Y  1.000000  \n",
       "659     N                 Y  0.800000  \n",
       "1115    N                 Y  0.914286  \n",
       "1188    N                 Y  0.916667  \n",
       "1459    N                 Y  0.977273  "
      ],
      "text/html": "<div>\n<style scoped>\n    .dataframe tbody tr th:only-of-type {\n        vertical-align: middle;\n    }\n\n    .dataframe tbody tr th {\n        vertical-align: top;\n    }\n\n    .dataframe thead th {\n        text-align: right;\n    }\n</style>\n<table border=\"1\" class=\"dataframe\">\n  <thead>\n    <tr style=\"text-align: right;\">\n      <th></th>\n      <th>Unnamed: 0</th>\n      <th>review_id</th>\n      <th>star_rating</th>\n      <th>helpful_votes</th>\n      <th>total_votes</th>\n      <th>vine</th>\n      <th>verified_purchase</th>\n      <th>results</th>\n    </tr>\n  </thead>\n  <tbody>\n    <tr>\n      <th>41</th>\n      <td>41</td>\n      <td>R1FBO737KD9F2N</td>\n      <td>5.0</td>\n      <td>19.0</td>\n      <td>23.0</td>\n      <td>N</td>\n      <td>Y</td>\n      <td>0.826087</td>\n    </tr>\n    <tr>\n      <th>145</th>\n      <td>145</td>\n      <td>R227GSNWI6BSZV</td>\n      <td>1.0</td>\n      <td>20.0</td>\n      <td>20.0</td>\n      <td>N</td>\n      <td>Y</td>\n      <td>1.000000</td>\n    </tr>\n    <tr>\n      <th>304</th>\n      <td>304</td>\n      <td>R3SJTYZBYBG4EE</td>\n      <td>4.0</td>\n      <td>99.0</td>\n      <td>99.0</td>\n      <td>N</td>\n      <td>Y</td>\n      <td>1.000000</td>\n    </tr>\n    <tr>\n      <th>419</th>\n      <td>419</td>\n      <td>R248FG65D76D5Y</td>\n      <td>1.0</td>\n      <td>42.0</td>\n      <td>53.0</td>\n      <td>N</td>\n      <td>Y</td>\n      <td>0.792453</td>\n    </tr>\n    <tr>\n      <th>500</th>\n      <td>500</td>\n      <td>R3B6BXFKGW52SG</td>\n      <td>1.0</td>\n      <td>32.0</td>\n      <td>32.0</td>\n      <td>N</td>\n      <td>Y</td>\n      <td>1.000000</td>\n    </tr>\n    <tr>\n      <th>555</th>\n      <td>555</td>\n      <td>ROTIV4VYL31R4</td>\n      <td>5.0</td>\n      <td>26.0</td>\n      <td>26.0</td>\n      <td>N</td>\n      <td>Y</td>\n      <td>1.000000</td>\n    </tr>\n    <tr>\n      <th>659</th>\n      <td>659</td>\n      <td>R3VQ59LD2LSKY7</td>\n      <td>5.0</td>\n      <td>20.0</td>\n      <td>25.0</td>\n      <td>N</td>\n      <td>Y</td>\n      <td>0.800000</td>\n    </tr>\n    <tr>\n      <th>1115</th>\n      <td>1115</td>\n      <td>RIIGLD8JB7PX8</td>\n      <td>1.0</td>\n      <td>32.0</td>\n      <td>35.0</td>\n      <td>N</td>\n      <td>Y</td>\n      <td>0.914286</td>\n    </tr>\n    <tr>\n      <th>1188</th>\n      <td>1188</td>\n      <td>R3MUBV21QV0IJK</td>\n      <td>3.0</td>\n      <td>77.0</td>\n      <td>84.0</td>\n      <td>N</td>\n      <td>Y</td>\n      <td>0.916667</td>\n    </tr>\n    <tr>\n      <th>1459</th>\n      <td>1459</td>\n      <td>R1V5W0X6BKIJYA</td>\n      <td>5.0</td>\n      <td>129.0</td>\n      <td>132.0</td>\n      <td>N</td>\n      <td>Y</td>\n      <td>0.977273</td>\n    </tr>\n  </tbody>\n</table>\n</div>"
     },
     "metadata": {},
     "execution_count": 4
    }
   ],
   "source": [
    "total_votes['results'] = total_votes['helpful_votes']/total_votes['total_votes']\n",
    "total_votes.head(10)"
   ]
  },
  {
   "cell_type": "code",
   "execution_count": 5,
   "metadata": {},
   "outputs": [
    {
     "output_type": "execute_result",
     "data": {
      "text/plain": [
       "      Unnamed: 0       review_id  star_rating  helpful_votes  total_votes  \\\n",
       "41            41  R1FBO737KD9F2N          5.0           19.0         23.0   \n",
       "145          145  R227GSNWI6BSZV          1.0           20.0         20.0   \n",
       "304          304  R3SJTYZBYBG4EE          4.0           99.0         99.0   \n",
       "419          419  R248FG65D76D5Y          1.0           42.0         53.0   \n",
       "500          500  R3B6BXFKGW52SG          1.0           32.0         32.0   \n",
       "555          555   ROTIV4VYL31R4          5.0           26.0         26.0   \n",
       "659          659  R3VQ59LD2LSKY7          5.0           20.0         25.0   \n",
       "1115        1115   RIIGLD8JB7PX8          1.0           32.0         35.0   \n",
       "1188        1188  R3MUBV21QV0IJK          3.0           77.0         84.0   \n",
       "1459        1459  R1V5W0X6BKIJYA          5.0          129.0        132.0   \n",
       "\n",
       "     vine verified_purchase   results  \n",
       "41      N                 Y  0.826087  \n",
       "145     N                 Y  1.000000  \n",
       "304     N                 Y  1.000000  \n",
       "419     N                 Y  0.792453  \n",
       "500     N                 Y  1.000000  \n",
       "555     N                 Y  1.000000  \n",
       "659     N                 Y  0.800000  \n",
       "1115    N                 Y  0.914286  \n",
       "1188    N                 Y  0.916667  \n",
       "1459    N                 Y  0.977273  "
      ],
      "text/html": "<div>\n<style scoped>\n    .dataframe tbody tr th:only-of-type {\n        vertical-align: middle;\n    }\n\n    .dataframe tbody tr th {\n        vertical-align: top;\n    }\n\n    .dataframe thead th {\n        text-align: right;\n    }\n</style>\n<table border=\"1\" class=\"dataframe\">\n  <thead>\n    <tr style=\"text-align: right;\">\n      <th></th>\n      <th>Unnamed: 0</th>\n      <th>review_id</th>\n      <th>star_rating</th>\n      <th>helpful_votes</th>\n      <th>total_votes</th>\n      <th>vine</th>\n      <th>verified_purchase</th>\n      <th>results</th>\n    </tr>\n  </thead>\n  <tbody>\n    <tr>\n      <th>41</th>\n      <td>41</td>\n      <td>R1FBO737KD9F2N</td>\n      <td>5.0</td>\n      <td>19.0</td>\n      <td>23.0</td>\n      <td>N</td>\n      <td>Y</td>\n      <td>0.826087</td>\n    </tr>\n    <tr>\n      <th>145</th>\n      <td>145</td>\n      <td>R227GSNWI6BSZV</td>\n      <td>1.0</td>\n      <td>20.0</td>\n      <td>20.0</td>\n      <td>N</td>\n      <td>Y</td>\n      <td>1.000000</td>\n    </tr>\n    <tr>\n      <th>304</th>\n      <td>304</td>\n      <td>R3SJTYZBYBG4EE</td>\n      <td>4.0</td>\n      <td>99.0</td>\n      <td>99.0</td>\n      <td>N</td>\n      <td>Y</td>\n      <td>1.000000</td>\n    </tr>\n    <tr>\n      <th>419</th>\n      <td>419</td>\n      <td>R248FG65D76D5Y</td>\n      <td>1.0</td>\n      <td>42.0</td>\n      <td>53.0</td>\n      <td>N</td>\n      <td>Y</td>\n      <td>0.792453</td>\n    </tr>\n    <tr>\n      <th>500</th>\n      <td>500</td>\n      <td>R3B6BXFKGW52SG</td>\n      <td>1.0</td>\n      <td>32.0</td>\n      <td>32.0</td>\n      <td>N</td>\n      <td>Y</td>\n      <td>1.000000</td>\n    </tr>\n    <tr>\n      <th>555</th>\n      <td>555</td>\n      <td>ROTIV4VYL31R4</td>\n      <td>5.0</td>\n      <td>26.0</td>\n      <td>26.0</td>\n      <td>N</td>\n      <td>Y</td>\n      <td>1.000000</td>\n    </tr>\n    <tr>\n      <th>659</th>\n      <td>659</td>\n      <td>R3VQ59LD2LSKY7</td>\n      <td>5.0</td>\n      <td>20.0</td>\n      <td>25.0</td>\n      <td>N</td>\n      <td>Y</td>\n      <td>0.800000</td>\n    </tr>\n    <tr>\n      <th>1115</th>\n      <td>1115</td>\n      <td>RIIGLD8JB7PX8</td>\n      <td>1.0</td>\n      <td>32.0</td>\n      <td>35.0</td>\n      <td>N</td>\n      <td>Y</td>\n      <td>0.914286</td>\n    </tr>\n    <tr>\n      <th>1188</th>\n      <td>1188</td>\n      <td>R3MUBV21QV0IJK</td>\n      <td>3.0</td>\n      <td>77.0</td>\n      <td>84.0</td>\n      <td>N</td>\n      <td>Y</td>\n      <td>0.916667</td>\n    </tr>\n    <tr>\n      <th>1459</th>\n      <td>1459</td>\n      <td>R1V5W0X6BKIJYA</td>\n      <td>5.0</td>\n      <td>129.0</td>\n      <td>132.0</td>\n      <td>N</td>\n      <td>Y</td>\n      <td>0.977273</td>\n    </tr>\n  </tbody>\n</table>\n</div>"
     },
     "metadata": {},
     "execution_count": 5
    }
   ],
   "source": [
    "# Filter DataFrame to retrieve all rows where the number of helpful_votes divided by total_votes is equal or greater than 50%\n",
    "helpful_votes = total_votes.loc[(total_votes['results']>=0.5)]\n",
    "helpful_votes.head(10)"
   ]
  },
  {
   "cell_type": "code",
   "execution_count": 6,
   "metadata": {},
   "outputs": [],
   "source": [
    "_5star = helpful_votes.loc[(helpful_votes['star_rating']== 5)]\n",
    "_5star_total = _5star.count()"
   ]
  },
  {
   "cell_type": "code",
   "execution_count": 7,
   "metadata": {},
   "outputs": [
    {
     "output_type": "execute_result",
     "data": {
      "text/plain": [
       "       Unnamed: 0       review_id  star_rating  helpful_votes  total_votes  \\\n",
       "1932         1932  R184FOUNZZ7KO8          5.0           15.0         20.0   \n",
       "4661         4661   R82QWN2X2OCHB          5.0          176.0        208.0   \n",
       "11745       11745  R1UYHBYE6790BU          5.0           44.0         53.0   \n",
       "17013       17013  R2J3YLX1L4EH2B          5.0          299.0        321.0   \n",
       "28097       28097  R3QDI539WTXKE2          5.0           26.0         32.0   \n",
       "30853       30853   RQTPWY6ND2NRV          4.0           37.0         37.0   \n",
       "37381       37381   RQZSTE0KOBY2G          4.0           98.0        109.0   \n",
       "43893       43893   RF2RNZEJO0K1N          4.0           23.0         26.0   \n",
       "47627       47627   ROB6VOW41E8O5          4.0          155.0        172.0   \n",
       "61610       61610  R3ASMXPEPYY28T          3.0           11.0         20.0   \n",
       "\n",
       "      vine verified_purchase   results  \n",
       "1932     Y                 N  0.750000  \n",
       "4661     Y                 N  0.846154  \n",
       "11745    Y                 N  0.830189  \n",
       "17013    Y                 N  0.931464  \n",
       "28097    Y                 N  0.812500  \n",
       "30853    Y                 N  1.000000  \n",
       "37381    Y                 N  0.899083  \n",
       "43893    Y                 N  0.884615  \n",
       "47627    Y                 N  0.901163  \n",
       "61610    Y                 N  0.550000  "
      ],
      "text/html": "<div>\n<style scoped>\n    .dataframe tbody tr th:only-of-type {\n        vertical-align: middle;\n    }\n\n    .dataframe tbody tr th {\n        vertical-align: top;\n    }\n\n    .dataframe thead th {\n        text-align: right;\n    }\n</style>\n<table border=\"1\" class=\"dataframe\">\n  <thead>\n    <tr style=\"text-align: right;\">\n      <th></th>\n      <th>Unnamed: 0</th>\n      <th>review_id</th>\n      <th>star_rating</th>\n      <th>helpful_votes</th>\n      <th>total_votes</th>\n      <th>vine</th>\n      <th>verified_purchase</th>\n      <th>results</th>\n    </tr>\n  </thead>\n  <tbody>\n    <tr>\n      <th>1932</th>\n      <td>1932</td>\n      <td>R184FOUNZZ7KO8</td>\n      <td>5.0</td>\n      <td>15.0</td>\n      <td>20.0</td>\n      <td>Y</td>\n      <td>N</td>\n      <td>0.750000</td>\n    </tr>\n    <tr>\n      <th>4661</th>\n      <td>4661</td>\n      <td>R82QWN2X2OCHB</td>\n      <td>5.0</td>\n      <td>176.0</td>\n      <td>208.0</td>\n      <td>Y</td>\n      <td>N</td>\n      <td>0.846154</td>\n    </tr>\n    <tr>\n      <th>11745</th>\n      <td>11745</td>\n      <td>R1UYHBYE6790BU</td>\n      <td>5.0</td>\n      <td>44.0</td>\n      <td>53.0</td>\n      <td>Y</td>\n      <td>N</td>\n      <td>0.830189</td>\n    </tr>\n    <tr>\n      <th>17013</th>\n      <td>17013</td>\n      <td>R2J3YLX1L4EH2B</td>\n      <td>5.0</td>\n      <td>299.0</td>\n      <td>321.0</td>\n      <td>Y</td>\n      <td>N</td>\n      <td>0.931464</td>\n    </tr>\n    <tr>\n      <th>28097</th>\n      <td>28097</td>\n      <td>R3QDI539WTXKE2</td>\n      <td>5.0</td>\n      <td>26.0</td>\n      <td>32.0</td>\n      <td>Y</td>\n      <td>N</td>\n      <td>0.812500</td>\n    </tr>\n    <tr>\n      <th>30853</th>\n      <td>30853</td>\n      <td>RQTPWY6ND2NRV</td>\n      <td>4.0</td>\n      <td>37.0</td>\n      <td>37.0</td>\n      <td>Y</td>\n      <td>N</td>\n      <td>1.000000</td>\n    </tr>\n    <tr>\n      <th>37381</th>\n      <td>37381</td>\n      <td>RQZSTE0KOBY2G</td>\n      <td>4.0</td>\n      <td>98.0</td>\n      <td>109.0</td>\n      <td>Y</td>\n      <td>N</td>\n      <td>0.899083</td>\n    </tr>\n    <tr>\n      <th>43893</th>\n      <td>43893</td>\n      <td>RF2RNZEJO0K1N</td>\n      <td>4.0</td>\n      <td>23.0</td>\n      <td>26.0</td>\n      <td>Y</td>\n      <td>N</td>\n      <td>0.884615</td>\n    </tr>\n    <tr>\n      <th>47627</th>\n      <td>47627</td>\n      <td>ROB6VOW41E8O5</td>\n      <td>4.0</td>\n      <td>155.0</td>\n      <td>172.0</td>\n      <td>Y</td>\n      <td>N</td>\n      <td>0.901163</td>\n    </tr>\n    <tr>\n      <th>61610</th>\n      <td>61610</td>\n      <td>R3ASMXPEPYY28T</td>\n      <td>3.0</td>\n      <td>11.0</td>\n      <td>20.0</td>\n      <td>Y</td>\n      <td>N</td>\n      <td>0.550000</td>\n    </tr>\n  </tbody>\n</table>\n</div>"
     },
     "metadata": {},
     "execution_count": 7
    }
   ],
   "source": [
    "# create a new DataFrame or table that retrieves all the rows where a review was written as part of the Vine program (paid), vine == 'Y'.\n",
    "\n",
    "vine_paid = helpful_votes.loc[(helpful_votes['vine']== 'Y')]\n",
    "vine_paid.head(10)"
   ]
  },
  {
   "cell_type": "code",
   "execution_count": 8,
   "metadata": {},
   "outputs": [
    {
     "output_type": "execute_result",
     "data": {
      "text/plain": [
       "      Unnamed: 0       review_id  star_rating  helpful_votes  total_votes  \\\n",
       "41            41  R1FBO737KD9F2N          5.0           19.0         23.0   \n",
       "145          145  R227GSNWI6BSZV          1.0           20.0         20.0   \n",
       "304          304  R3SJTYZBYBG4EE          4.0           99.0         99.0   \n",
       "419          419  R248FG65D76D5Y          1.0           42.0         53.0   \n",
       "500          500  R3B6BXFKGW52SG          1.0           32.0         32.0   \n",
       "555          555   ROTIV4VYL31R4          5.0           26.0         26.0   \n",
       "659          659  R3VQ59LD2LSKY7          5.0           20.0         25.0   \n",
       "1115        1115   RIIGLD8JB7PX8          1.0           32.0         35.0   \n",
       "1188        1188  R3MUBV21QV0IJK          3.0           77.0         84.0   \n",
       "1459        1459  R1V5W0X6BKIJYA          5.0          129.0        132.0   \n",
       "\n",
       "     vine verified_purchase   results  \n",
       "41      N                 Y  0.826087  \n",
       "145     N                 Y  1.000000  \n",
       "304     N                 Y  1.000000  \n",
       "419     N                 Y  0.792453  \n",
       "500     N                 Y  1.000000  \n",
       "555     N                 Y  1.000000  \n",
       "659     N                 Y  0.800000  \n",
       "1115    N                 Y  0.914286  \n",
       "1188    N                 Y  0.916667  \n",
       "1459    N                 Y  0.977273  "
      ],
      "text/html": "<div>\n<style scoped>\n    .dataframe tbody tr th:only-of-type {\n        vertical-align: middle;\n    }\n\n    .dataframe tbody tr th {\n        vertical-align: top;\n    }\n\n    .dataframe thead th {\n        text-align: right;\n    }\n</style>\n<table border=\"1\" class=\"dataframe\">\n  <thead>\n    <tr style=\"text-align: right;\">\n      <th></th>\n      <th>Unnamed: 0</th>\n      <th>review_id</th>\n      <th>star_rating</th>\n      <th>helpful_votes</th>\n      <th>total_votes</th>\n      <th>vine</th>\n      <th>verified_purchase</th>\n      <th>results</th>\n    </tr>\n  </thead>\n  <tbody>\n    <tr>\n      <th>41</th>\n      <td>41</td>\n      <td>R1FBO737KD9F2N</td>\n      <td>5.0</td>\n      <td>19.0</td>\n      <td>23.0</td>\n      <td>N</td>\n      <td>Y</td>\n      <td>0.826087</td>\n    </tr>\n    <tr>\n      <th>145</th>\n      <td>145</td>\n      <td>R227GSNWI6BSZV</td>\n      <td>1.0</td>\n      <td>20.0</td>\n      <td>20.0</td>\n      <td>N</td>\n      <td>Y</td>\n      <td>1.000000</td>\n    </tr>\n    <tr>\n      <th>304</th>\n      <td>304</td>\n      <td>R3SJTYZBYBG4EE</td>\n      <td>4.0</td>\n      <td>99.0</td>\n      <td>99.0</td>\n      <td>N</td>\n      <td>Y</td>\n      <td>1.000000</td>\n    </tr>\n    <tr>\n      <th>419</th>\n      <td>419</td>\n      <td>R248FG65D76D5Y</td>\n      <td>1.0</td>\n      <td>42.0</td>\n      <td>53.0</td>\n      <td>N</td>\n      <td>Y</td>\n      <td>0.792453</td>\n    </tr>\n    <tr>\n      <th>500</th>\n      <td>500</td>\n      <td>R3B6BXFKGW52SG</td>\n      <td>1.0</td>\n      <td>32.0</td>\n      <td>32.0</td>\n      <td>N</td>\n      <td>Y</td>\n      <td>1.000000</td>\n    </tr>\n    <tr>\n      <th>555</th>\n      <td>555</td>\n      <td>ROTIV4VYL31R4</td>\n      <td>5.0</td>\n      <td>26.0</td>\n      <td>26.0</td>\n      <td>N</td>\n      <td>Y</td>\n      <td>1.000000</td>\n    </tr>\n    <tr>\n      <th>659</th>\n      <td>659</td>\n      <td>R3VQ59LD2LSKY7</td>\n      <td>5.0</td>\n      <td>20.0</td>\n      <td>25.0</td>\n      <td>N</td>\n      <td>Y</td>\n      <td>0.800000</td>\n    </tr>\n    <tr>\n      <th>1115</th>\n      <td>1115</td>\n      <td>RIIGLD8JB7PX8</td>\n      <td>1.0</td>\n      <td>32.0</td>\n      <td>35.0</td>\n      <td>N</td>\n      <td>Y</td>\n      <td>0.914286</td>\n    </tr>\n    <tr>\n      <th>1188</th>\n      <td>1188</td>\n      <td>R3MUBV21QV0IJK</td>\n      <td>3.0</td>\n      <td>77.0</td>\n      <td>84.0</td>\n      <td>N</td>\n      <td>Y</td>\n      <td>0.916667</td>\n    </tr>\n    <tr>\n      <th>1459</th>\n      <td>1459</td>\n      <td>R1V5W0X6BKIJYA</td>\n      <td>5.0</td>\n      <td>129.0</td>\n      <td>132.0</td>\n      <td>N</td>\n      <td>Y</td>\n      <td>0.977273</td>\n    </tr>\n  </tbody>\n</table>\n</div>"
     },
     "metadata": {},
     "execution_count": 8
    }
   ],
   "source": [
    "# retrieve all the rows where the review was not part of the Vine program (unpaid), vine == 'N'\n",
    "\n",
    "vine_unpaid = helpful_votes.loc[(helpful_votes['vine']== 'N')]\n",
    "vine_unpaid.head(10)"
   ]
  },
  {
   "cell_type": "code",
   "execution_count": 10,
   "metadata": {},
   "outputs": [
    {
     "output_type": "execute_result",
     "data": {
      "text/plain": [
       "Unnamed: 0           1080\n",
       "review_id            1080\n",
       "star_rating          1080\n",
       "helpful_votes        1080\n",
       "total_votes          1080\n",
       "vine                 1080\n",
       "verified_purchase    1080\n",
       "results              1080\n",
       "dtype: int64"
      ]
     },
     "metadata": {},
     "execution_count": 10
    }
   ],
   "source": [
    "# Determine the total number of reviews, the number of 5-star reviews, and the percentage of 5-star reviews for the two types of review (paid vs unpaid)\n",
    "vine_paid.count()\n",
    "#five_star = vine_paid.loc[(vine_paid['star_rating']==5)]\n",
    "#five_star.count()"
   ]
  },
  {
   "cell_type": "code",
   "execution_count": 61,
   "metadata": {},
   "outputs": [
    {
     "output_type": "execute_result",
     "data": {
      "text/plain": [
       "Unnamed: 0                  1.932162\n",
       "review_id                   1.932162\n",
       "star_rating                 1.932162\n",
       "helpful_votes               1.932162\n",
       "total_votes                 1.932162\n",
       "vine                        1.932162\n",
       "verified_purchase           1.932162\n",
       "percentage_helpful_votes    1.932162\n",
       "results                     1.932162\n",
       "dtype: float64"
      ]
     },
     "metadata": {},
     "execution_count": 61
    }
   ],
   "source": [
    "paid_count = vine_paid[(vine_paid.star_rating >= 5)].count()\n",
    "percentage_5star_paid = (paid_count/_5star_total)*100\n",
    "percentage_5star_paid"
   ]
  },
  {
   "cell_type": "code",
   "execution_count": 64,
   "metadata": {},
   "outputs": [
    {
     "output_type": "execute_result",
     "data": {
      "text/plain": [
       "Unnamed: 0                  98.067838\n",
       "review_id                   98.067838\n",
       "star_rating                 98.067838\n",
       "helpful_votes               98.067838\n",
       "total_votes                 98.067838\n",
       "vine                        98.067838\n",
       "verified_purchase           98.067838\n",
       "percentage_helpful_votes    98.067838\n",
       "results                     98.067838\n",
       "dtype: float64"
      ]
     },
     "metadata": {},
     "execution_count": 64
    }
   ],
   "source": [
    "unpaid_count = vine_unpaid[(vine_unpaid.star_rating >= 5)].count()\n",
    "percentage_5star_unpaid = (unpaid_count/_5star_total)*100\n",
    "percentage_5star_unpaid"
   ]
  },
  {
   "cell_type": "code",
   "execution_count": 65,
   "metadata": {},
   "outputs": [
    {
     "output_type": "execute_result",
     "data": {
      "text/plain": [
       "Unnamed: 0                  100.0\n",
       "review_id                   100.0\n",
       "star_rating                 100.0\n",
       "helpful_votes               100.0\n",
       "total_votes                 100.0\n",
       "vine                        100.0\n",
       "verified_purchase           100.0\n",
       "percentage_helpful_votes    100.0\n",
       "results                     100.0\n",
       "dtype: float64"
      ]
     },
     "metadata": {},
     "execution_count": 65
    }
   ],
   "source": [
    "percentage_5star_paid+percentage_5star_unpaid"
   ]
  },
  {
   "cell_type": "code",
   "execution_count": null,
   "metadata": {},
   "outputs": [],
   "source": []
  }
 ]
}